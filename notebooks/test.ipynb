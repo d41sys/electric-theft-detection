{
 "cells": [
  {
   "cell_type": "code",
   "execution_count": 101,
   "metadata": {},
   "outputs": [
    {
     "name": "stdout",
     "output_type": "stream",
     "text": [
      "[[1, 4], [6, 6], [8, 10]]\n"
     ]
    }
   ],
   "source": [
    "import numpy as np\n",
    "import pandas as pd\n",
    "\n",
    "intervals = [[1,4], [8,10]]\n",
    "newInterval = [6,6]\n",
    "res = []\n",
    "\n",
    "if intervals == []:\n",
    "    res.append(newInterval)\n",
    "\n",
    "for i, [start, end] in enumerate(intervals):\n",
    "    if end < newInterval[0]:\n",
    "        res.append([start, end])\n",
    "        if i == len(intervals)-1 or intervals[i+1][0] > newInterval[1]:\n",
    "            res.append(newInterval)\n",
    "    else: \n",
    "        if start > newInterval[1]:\n",
    "            if res == []:\n",
    "                res.append(newInterval)\n",
    "            res.append([start, end])\n",
    "        else:\n",
    "            newInterval[0] = min(start, newInterval[0])\n",
    "            newInterval[1] = max(end, newInterval[1])\n",
    "            # in case update the last interval\n",
    "            if i == len(intervals)-1:\n",
    "                res.append(newInterval)\n",
    "            elif intervals[i+1][0] > newInterval[1]:\n",
    "                res.append(newInterval)\n",
    "print(res)"
   ]
  }
 ],
 "metadata": {
  "kernelspec": {
   "display_name": "torchtf",
   "language": "python",
   "name": "python3"
  },
  "language_info": {
   "codemirror_mode": {
    "name": "ipython",
    "version": 3
   },
   "file_extension": ".py",
   "mimetype": "text/x-python",
   "name": "python",
   "nbconvert_exporter": "python",
   "pygments_lexer": "ipython3",
   "version": "3.9.18"
  }
 },
 "nbformat": 4,
 "nbformat_minor": 2
}
