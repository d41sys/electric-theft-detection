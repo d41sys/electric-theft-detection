{
 "cells": [
  {
   "cell_type": "code",
   "execution_count": 3,
   "metadata": {},
   "outputs": [
    {
     "name": "stdout",
     "output_type": "stream",
     "text": [
      "torch.Size([32, 16, 26])\n"
     ]
    }
   ],
   "source": [
    "import torch\n",
    "import torch.nn as nn\n",
    "\n",
    "# Define a Conv1d layer\n",
    "# It expects input with 36 channels, produces output with 16 channels,\n",
    "# and uses a kernel of size 3\n",
    "conv1d = nn.Conv1d(in_channels=36, out_channels=16, kernel_size=3)\n",
    "\n",
    "# Assume x is your data tensor, which should have shape (32, 36, 28)\n",
    "# For this example, we'll just create a tensor of the right shape\n",
    "x = torch.randn(32, 36, 28)\n",
    "\n",
    "# Pass the tensor through the Conv1d layer\n",
    "output = conv1d(x)\n",
    "\n",
    "# The output will have shape (32, 16, 26)\n",
    "print(output.shape)"
   ]
  }
 ],
 "metadata": {
  "kernelspec": {
   "display_name": "torchtf",
   "language": "python",
   "name": "python3"
  },
  "language_info": {
   "codemirror_mode": {
    "name": "ipython",
    "version": 3
   },
   "file_extension": ".py",
   "mimetype": "text/x-python",
   "name": "python",
   "nbconvert_exporter": "python",
   "pygments_lexer": "ipython3",
   "version": "3.9.18"
  }
 },
 "nbformat": 4,
 "nbformat_minor": 2
}
