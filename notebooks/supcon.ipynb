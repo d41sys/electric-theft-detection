{
 "cells": [
  {
   "cell_type": "code",
   "execution_count": 1,
   "metadata": {},
   "outputs": [
    {
     "name": "stdout",
     "output_type": "stream",
     "text": [
      "['/home/tiendat/electric-theft-detection/../', '/home/tiendat/electric-theft-detection/notebooks', '/home/tiendat/miniconda3/envs/torchtf/lib/python39.zip', '/home/tiendat/miniconda3/envs/torchtf/lib/python3.9', '/home/tiendat/miniconda3/envs/torchtf/lib/python3.9/lib-dynload', '', '/home/tiendat/miniconda3/envs/torchtf/lib/python3.9/site-packages', '../']\n"
     ]
    }
   ],
   "source": [
    "import sys\n",
    "import os\n",
    "\n",
    "%load_ext autoreload\n",
    "%autoreload 2\n",
    "\n",
    "sys.path.append('../')\n",
    "sys.path.insert(0, os.path.dirname(os.getcwd()) + \"/../\")\n",
    "\n",
    "print(sys.path)"
   ]
  },
  {
   "cell_type": "code",
   "execution_count": 4,
   "metadata": {},
   "outputs": [
    {
     "name": "stderr",
     "output_type": "stream",
     "text": [
      "2024-03-13 14:48:20.139403: I tensorflow/core/util/util.cc:169] oneDNN custom operations are on. You may see slightly different numerical results due to floating-point round-off errors from different computation orders. To turn them off, set the environment variable `TF_ENABLE_ONEDNN_OPTS=0`.\n"
     ]
    }
   ],
   "source": [
    "import os\n",
    "import argparse \n",
    "import math\n",
    "import numpy as np\n",
    "from tqdm import tqdm\n",
    "from datetime import datetime\n",
    "\n",
    "from CANdataset import CANDataset\n",
    "from utils import get_prediction, cal_metric, print_results\n",
    "from networks.simple_cnn import SupConCNN\n",
    "from networks.classifier import LinearClassifier\n",
    "\n",
    "from networks.resnet_big import SupConResNet\n",
    "from supcon.util import set_optimizer, save_model\n",
    "from supcon.util import AverageMeter\n",
    "from supcon.util import adjust_learning_rate, warmup_learning_rate, accuracy\n",
    "from supcon.losses import SupConLoss\n",
    "\n",
    "#from focalloss import FocalLoss\n",
    "\n",
    "import torch\n",
    "from torch.utils.tensorboard import SummaryWriter\n",
    "import torch.optim as optim\n",
    "import torch.backends.cudnn as cudnn\n",
    "\n",
    "from sklearn.metrics import f1_score\n",
    "\n",
    "NUM_CLASSES = 2"
   ]
  },
  {
   "cell_type": "code",
   "execution_count": 5,
   "metadata": {},
   "outputs": [
    {
     "name": "stdout",
     "output_type": "stream",
     "text": [
      "tensor([-1,  1,  2,  3, -1,  5])\n",
      "tensor([[[-1,  1,  2],\n",
      "         [ 3, -1,  5]]])\n",
      "tensor([[[ 6,  7,  8],\n",
      "         [ 9, 10, 11]]])\n"
     ]
    }
   ],
   "source": [
    "import torch\n",
    "\n",
    "# Let's assume the following initial tensors\n",
    "id_seq = torch.tensor([0, 1, 2, 3, 0, 5])\n",
    "data_seq = torch.tensor([6, 7, 8, 9, 10, 11])\n",
    "\n",
    "# Replace 0 with -1\n",
    "id_seq[id_seq == 0] = -1\n",
    "print(id_seq)  # Output: tensor([-1,  1,  2,  3, -1,  5])\n",
    "\n",
    "# Reshape tensors\n",
    "window_size = 2\n",
    "ID_LEN = 3\n",
    "DATA_LEN = 3\n",
    "\n",
    "id_seq = id_seq.view(-1, window_size, ID_LEN)\n",
    "data_seq = data_seq.view(-1, window_size, DATA_LEN)\n",
    "\n",
    "print(id_seq)\n",
    "print(data_seq)"
   ]
  }
 ],
 "metadata": {
  "kernelspec": {
   "display_name": "torchtf",
   "language": "python",
   "name": "python3"
  },
  "language_info": {
   "codemirror_mode": {
    "name": "ipython",
    "version": 3
   },
   "file_extension": ".py",
   "mimetype": "text/x-python",
   "name": "python",
   "nbconvert_exporter": "python",
   "pygments_lexer": "ipython3",
   "version": "3.9.18"
  }
 },
 "nbformat": 4,
 "nbformat_minor": 2
}
