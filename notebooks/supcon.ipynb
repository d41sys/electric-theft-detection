{
 "cells": [
  {
   "cell_type": "code",
   "execution_count": 115,
   "metadata": {},
   "outputs": [
    {
     "name": "stdout",
     "output_type": "stream",
     "text": [
      "['p', 'e', 'k', 'e', 'q']\n",
      "kqeep\n"
     ]
    }
   ],
   "source": [
    "from typing import *\n",
    "\n",
    "nums1 = [1,2,8,12,32,34,43,52,57,62,64,67,71,71,79,81,86,91,93,94]\n",
    "nums2 = [9,11,12,14,19,25,29,31,38,39,41,42,58,63,66,70,71,73,91,91]\n",
    "\n",
    "order = \"kqep\"\n",
    "s = \"pekeq\"\n",
    "\n",
    "common = set(order) & set(s)\n",
    "\n",
    "common2 = [w for w in s if w in set(order)]\n",
    "notcommon = [w for w in s if w not in set(order)]\n",
    "print(common2)\n",
    "\n",
    "print(''.join(sorted(common2, key=lambda x: order.index(x)) + list(notcommon)))"
   ]
  }
 ],
 "metadata": {
  "kernelspec": {
   "display_name": "torchtf",
   "language": "python",
   "name": "python3"
  },
  "language_info": {
   "codemirror_mode": {
    "name": "ipython",
    "version": 3
   },
   "file_extension": ".py",
   "mimetype": "text/x-python",
   "name": "python",
   "nbconvert_exporter": "python",
   "pygments_lexer": "ipython3",
   "version": "3.9.18"
  }
 },
 "nbformat": 4,
 "nbformat_minor": 2
}
